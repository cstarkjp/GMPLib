{
 "cells": [
  {
   "cell_type": "markdown",
   "metadata": {},
   "source": [
    "See: https://sphobjinv.readthedocs.io/en/latest/customfile.html"
   ]
  },
  {
   "cell_type": "code",
   "execution_count": 1,
   "metadata": {},
   "outputs": [],
   "source": [
    "import sphobjinv as soi"
   ]
  },
  {
   "cell_type": "code",
   "execution_count": 2,
   "metadata": {},
   "outputs": [],
   "source": [
    "GME_URI = 'https://cstarkjp.github.io/GMPLib/modules/'"
   ]
  },
  {
   "cell_type": "code",
   "execution_count": 3,
   "metadata": {},
   "outputs": [],
   "source": [
    "get_methods = lambda obj: [method_name for method_name in dir(obj)\n",
    "                              if callable(getattr(obj, method_name))\n",
    "                                  and not method_name.startswith('__')]"
   ]
  },
  {
   "cell_type": "code",
   "execution_count": 47,
   "metadata": {},
   "outputs": [
    {
     "data": {
      "text/plain": [
       "Inventory(project='GMPLib', version='1.0', source_type=<SourceTypes.Manual: 'manual'>)"
      ]
     },
     "execution_count": 47,
     "metadata": {},
     "output_type": "execute_result"
    }
   ],
   "source": [
    "inv = soi.Inventory()\n",
    "inv.project = 'GMPLib'\n",
    "inv.version = '1.0'\n",
    "package_name = 'gmplib'\n",
    "\n",
    "module = inv.project\n",
    "obj = soi.DataObjStr( name=module, domain='py', \n",
    "                      role='module', priority='1',\n",
    "                      uri='index.html', \n",
    "                      dispname='-' )\n",
    "inv.objects.append(obj)\n",
    "\n",
    "module = package_name\n",
    "obj = soi.DataObjStr( name=module, domain='py', \n",
    "                      role='module', priority='1',\n",
    "                      uri='index.html', \n",
    "                      dispname='-' )\n",
    "inv.objects.append(obj)\n",
    "\n",
    "modules = ['parameters', 'plot_utils', 'save', 'utils']\n",
    "for module in modules:\n",
    "    obj = soi.DataObjStr( name=module, domain='py', \n",
    "                          role='module', priority='1',\n",
    "                          uri='modules/'+module+'.html', \n",
    "                          dispname='-' )\n",
    "    inv.objects.append(obj)\n",
    "\n",
    "module = 'plot_utils'\n",
    "# obj = soi.DataObjStr( name='gmplib.'+module+'.GraphingBase', domain='py', \n",
    "obj = soi.DataObjStr( name=module+'.GraphingBase', domain='py', \n",
    "                      role='class', priority='1',\n",
    "                      uri='modules/'+module+'.html'+'#gmplib.$', \n",
    "                      dispname='-' )\n",
    "inv.objects.append(obj)\n",
    "\n",
    "module = 'plot_utils'\n",
    "cls = 'GraphingBase'\n",
    "method = 'create_figure'\n",
    "# obj = soi.DataObjStr( name='gmplib.'+module+'.GraphingBase', domain='py', \n",
    "obj = soi.DataObjStr( name=module+'.'+cls+'.'+method, domain='py', \n",
    "                      role='method', priority='1',\n",
    "                      uri='modules/'+module+'.html'+'#gmplib.$', \n",
    "                      dispname='-' )\n",
    "inv.objects.append(obj)\n",
    "\n",
    "# from gmplib.plot_utils import GraphingBase\n",
    "# for method in get_methods(GraphingBase):\n",
    "#     obj = soi.DataObjStr( name='GraphingBase.'+method, domain='py', \n",
    "#                           role='method', priority='1',\n",
    "#                           uri=GME_URI+'plot_utils.html$', \n",
    "#                           dispname='-' )\n",
    "#     inv.objects.append(obj)\n",
    "inv"
   ]
  },
  {
   "cell_type": "code",
   "execution_count": 48,
   "metadata": {},
   "outputs": [
    {
     "data": {
      "text/plain": [
       "b'# Sphinx inventory version 2\\n# Project: GMPLib\\n# Version: 1.0\\n# The remainder of this file is compressed using zlib.\\nGMPLib py:module 1 index.html -\\ngmplib py:module 1 index.html -\\nparameters py:module 1 modules/parameters.html -\\nplot_utils py:module 1 modules/plot_utils.html -\\nsave py:module 1 modules/save.html -\\nutils py:module 1 modules/utils.html -\\nplot_utils.GraphingBase py:class 1 modules/plot_utils.html#gmplib.$ -\\nplot_utils.GraphingBase.create_figure py:method 1 modules/plot_utils.html#gmplib.$ -\\n'"
      ]
     },
     "execution_count": 48,
     "metadata": {},
     "output_type": "execute_result"
    }
   ],
   "source": [
    "text = inv.data_file(contract=True)\n",
    "text"
   ]
  },
  {
   "cell_type": "code",
   "execution_count": 49,
   "metadata": {},
   "outputs": [],
   "source": [
    "ztext = soi.compress(text)\n",
    "soi.writebytes('../objects.inv', ztext)"
   ]
  },
  {
   "cell_type": "code",
   "execution_count": null,
   "metadata": {},
   "outputs": [],
   "source": []
  },
  {
   "cell_type": "code",
   "execution_count": null,
   "metadata": {},
   "outputs": [],
   "source": []
  },
  {
   "cell_type": "code",
   "execution_count": null,
   "metadata": {},
   "outputs": [],
   "source": []
  }
 ],
 "metadata": {
  "hide_input": false,
  "kernelspec": {
   "display_name": "Python 3",
   "language": "python",
   "name": "python3"
  },
  "language_info": {
   "codemirror_mode": {
    "name": "ipython",
    "version": 3
   },
   "file_extension": ".py",
   "mimetype": "text/x-python",
   "name": "python",
   "nbconvert_exporter": "python",
   "pygments_lexer": "ipython3",
   "version": "3.8.7"
  }
 },
 "nbformat": 4,
 "nbformat_minor": 4
}
